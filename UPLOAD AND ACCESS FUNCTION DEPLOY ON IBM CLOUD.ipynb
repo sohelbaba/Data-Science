{
 "cells": [
  {
   "cell_type": "code",
   "execution_count": 13,
   "metadata": {},
   "outputs": [
    {
     "name": "stdout",
     "output_type": "stream",
     "text": [
      "Requirement already satisfied: watson-machine-learning-client in c:\\users\\sohel\\appdata\\local\\programs\\python\\python38-32\\lib\\site-packages (1.0.378)\n",
      "Requirement already satisfied: ibm-cos-sdk in c:\\users\\sohel\\appdata\\local\\programs\\python\\python38-32\\lib\\site-packages (from watson-machine-learning-client) (2.6.0)\n",
      "Requirement already satisfied: urllib3 in c:\\users\\sohel\\appdata\\local\\programs\\python\\python38-32\\lib\\site-packages (from watson-machine-learning-client) (1.25.9)\n",
      "Requirement already satisfied: lomond in c:\\users\\sohel\\appdata\\local\\programs\\python\\python38-32\\lib\\site-packages (from watson-machine-learning-client) (0.3.3)\n",
      "Requirement already satisfied: pandas in c:\\users\\sohel\\appdata\\local\\programs\\python\\python38-32\\lib\\site-packages (from watson-machine-learning-client) (0.25.3)\n",
      "Requirement already satisfied: certifi in c:\\users\\sohel\\appdata\\local\\programs\\python\\python38-32\\lib\\site-packages (from watson-machine-learning-client) (2020.4.5.1)\n",
      "Requirement already satisfied: tqdm in c:\\users\\sohel\\appdata\\local\\programs\\python\\python38-32\\lib\\site-packages (from watson-machine-learning-client) (4.46.1)\n",
      "Requirement already satisfied: requests in c:\\users\\sohel\\appdata\\local\\programs\\python\\python38-32\\lib\\site-packages (from watson-machine-learning-client) (2.23.0)\n",
      "Requirement already satisfied: tabulate in c:\\users\\sohel\\appdata\\local\\programs\\python\\python38-32\\lib\\site-packages (from watson-machine-learning-client) (0.8.7)\n",
      "Requirement already satisfied: jmespath<1.0.0,>=0.7.1 in c:\\users\\sohel\\appdata\\local\\programs\\python\\python38-32\\lib\\site-packages (from ibm-cos-sdk->watson-machine-learning-client) (0.10.0)\n",
      "Requirement already satisfied: ibm-cos-sdk-core==2.6.0 in c:\\users\\sohel\\appdata\\local\\programs\\python\\python38-32\\lib\\site-packages (from ibm-cos-sdk->watson-machine-learning-client) (2.6.0)\n",
      "Requirement already satisfied: ibm-cos-sdk-s3transfer==2.6.0 in c:\\users\\sohel\\appdata\\local\\programs\\python\\python38-32\\lib\\site-packages (from ibm-cos-sdk->watson-machine-learning-client) (2.6.0)\n",
      "Requirement already satisfied: six>=1.10.0 in c:\\users\\sohel\\appdata\\local\\programs\\python\\python38-32\\lib\\site-packages (from lomond->watson-machine-learning-client) (1.14.0)\n",
      "Requirement already satisfied: pytz>=2017.2 in c:\\users\\sohel\\appdata\\local\\programs\\python\\python38-32\\lib\\site-packages (from pandas->watson-machine-learning-client) (2020.1)\n",
      "Requirement already satisfied: python-dateutil>=2.6.1 in c:\\users\\sohel\\appdata\\local\\programs\\python\\python38-32\\lib\\site-packages (from pandas->watson-machine-learning-client) (2.8.1)\n",
      "Requirement already satisfied: numpy>=1.13.3 in c:\\users\\sohel\\appdata\\local\\programs\\python\\python38-32\\lib\\site-packages (from pandas->watson-machine-learning-client) (1.18.5)\n",
      "Requirement already satisfied: chardet<4,>=3.0.2 in c:\\users\\sohel\\appdata\\local\\programs\\python\\python38-32\\lib\\site-packages (from requests->watson-machine-learning-client) (3.0.4)\n",
      "Requirement already satisfied: idna<3,>=2.5 in c:\\users\\sohel\\appdata\\local\\programs\\python\\python38-32\\lib\\site-packages (from requests->watson-machine-learning-client) (2.9)\n",
      "Requirement already satisfied: docutils<0.16,>=0.10 in c:\\users\\sohel\\appdata\\local\\programs\\python\\python38-32\\lib\\site-packages (from ibm-cos-sdk-core==2.6.0->ibm-cos-sdk->watson-machine-learning-client) (0.15.2)\n"
     ]
    }
   ],
   "source": [
    "#this is file show how to deploy function on the cloud and get back data from cloud \n",
    "#so let's open this new series\n",
    "!python -m pip install watson-machine-learning-client"
   ]
  },
  {
   "cell_type": "code",
   "execution_count": 21,
   "metadata": {},
   "outputs": [
    {
     "ename": "ImportError",
     "evalue": "cannot import name 'WatsonMachineLearningAPIClient' from 'watson_machine_learning_client' (unknown location)",
     "output_type": "error",
     "traceback": [
      "\u001b[1;31m---------------------------------------------------------------------------\u001b[0m",
      "\u001b[1;31mImportError\u001b[0m                               Traceback (most recent call last)",
      "\u001b[1;32m<ipython-input-21-ca607ddb8510>\u001b[0m in \u001b[0;36m<module>\u001b[1;34m\u001b[0m\n\u001b[0;32m      1\u001b[0m \u001b[1;31m#inorder to work with cloud you import it first\u001b[0m\u001b[1;33m\u001b[0m\u001b[1;33m\u001b[0m\u001b[1;33m\u001b[0m\u001b[0m\n\u001b[0;32m      2\u001b[0m \u001b[1;31m#i used IBM Cloud that's why i import IBM watson\u001b[0m\u001b[1;33m\u001b[0m\u001b[1;33m\u001b[0m\u001b[1;33m\u001b[0m\u001b[0m\n\u001b[1;32m----> 3\u001b[1;33m \u001b[1;32mfrom\u001b[0m \u001b[0mwatson_machine_learning_client\u001b[0m \u001b[1;32mimport\u001b[0m \u001b[0mWatsonMachineLearningAPIClient\u001b[0m\u001b[1;33m\u001b[0m\u001b[1;33m\u001b[0m\u001b[0m\n\u001b[0m",
      "\u001b[1;31mImportError\u001b[0m: cannot import name 'WatsonMachineLearningAPIClient' from 'watson_machine_learning_client' (unknown location)"
     ]
    }
   ],
   "source": [
    "#inorder to work with cloud you import it first\n",
    "#i used IBM Cloud that's why i import IBM watson\n",
    "from watson_machine_learning_client import WatsonMachineLearningAPIClient"
   ]
  },
  {
   "cell_type": "code",
   "execution_count": 19,
   "metadata": {},
   "outputs": [],
   "source": [
    "#to connect with cloud you provide credential\n",
    "wml_credentials = {\n",
    "                  \"apikey\": \"IrNw2mSouf1QceDWbbPQZRN4aw21eD8s9H1w5EppadKZ\",\n",
    "                  \"iam_apikey_description\": \"Auto-generated for key 3f8217f1-0d8e-4b5b-aef6-48af37b35ed5\",\n",
    "                  \"iam_apikey_name\": \"Service credentials-1\",\n",
    "                  \"iam_role_crn\": \"crn:v1:bluemix:public:iam::::serviceRole:Writer\",\n",
    "                  \"iam_serviceid_crn\": \"crn:v1:bluemix:public:iam-identity::a/7235d479afe8484da932adfafcda4b66::serviceid:ServiceId-e840fc0e-7c7a-4dd2-ad2c-05d680db71fd\",\n",
    "                  \"instance_id\": \"6a130b38-2027-4a02-9f17-15e8a7595f72\",\n",
    "                  \"url\": \"https://us-south.ml.cloud.ibm.com\"\n",
    "                  }"
   ]
  },
  {
   "cell_type": "code",
   "execution_count": 20,
   "metadata": {},
   "outputs": [
    {
     "ename": "NameError",
     "evalue": "name 'WatsonMachineLearningAPIClient' is not defined",
     "output_type": "error",
     "traceback": [
      "\u001b[1;31m---------------------------------------------------------------------------\u001b[0m",
      "\u001b[1;31mNameError\u001b[0m                                 Traceback (most recent call last)",
      "\u001b[1;32m<ipython-input-20-83383f6cc399>\u001b[0m in \u001b[0;36m<module>\u001b[1;34m\u001b[0m\n\u001b[0;32m      1\u001b[0m \u001b[1;31m#client created\u001b[0m\u001b[1;33m\u001b[0m\u001b[1;33m\u001b[0m\u001b[1;33m\u001b[0m\u001b[0m\n\u001b[1;32m----> 2\u001b[1;33m \u001b[0mclient\u001b[0m \u001b[1;33m=\u001b[0m \u001b[0mWatsonMachineLearningAPIClient\u001b[0m\u001b[1;33m(\u001b[0m\u001b[0mwml_credentials\u001b[0m\u001b[1;33m)\u001b[0m\u001b[1;33m\u001b[0m\u001b[1;33m\u001b[0m\u001b[0m\n\u001b[0m\u001b[0;32m      3\u001b[0m \u001b[1;33m\u001b[0m\u001b[0m\n",
      "\u001b[1;31mNameError\u001b[0m: name 'WatsonMachineLearningAPIClient' is not defined"
     ]
    }
   ],
   "source": [
    "#client created\n",
    "client = WatsonMachineLearningAPIClient(wml_credentials)\n",
    "\n"
   ]
  },
  {
   "cell_type": "code",
   "execution_count": null,
   "metadata": {},
   "outputs": [],
   "source": [
    "\n",
    "model_props = {\n",
    "        client.repository.ModelMetaNames.AUTHOR_NAME: 'sohel',\n",
    "        client.repository.ModelMetaNames.AUTHOR_EMAIL: 'sohelmulla508@gmail.com',\n",
    "        client.repository.ModelMetaNames.NAME: 'Salary Data',\n",
    "}"
   ]
  },
  {
   "cell_type": "code",
   "execution_count": null,
   "metadata": {},
   "outputs": [],
   "source": [
    "model_artifict = client.repository.store_model(model,meta_props = model_props)"
   ]
  },
  {
   "cell_type": "code",
   "execution_count": null,
   "metadata": {},
   "outputs": [],
   "source": [
    "uid = client.repository.get_model_uid(model_artifict)"
   ]
  },
  {
   "cell_type": "code",
   "execution_count": null,
   "metadata": {},
   "outputs": [],
   "source": [
    "deploy = client.deployments.create(uid,name=\"salary prediction\")"
   ]
  },
  {
   "cell_type": "code",
   "execution_count": null,
   "metadata": {},
   "outputs": [],
   "source": [
    "client.deployments.list()"
   ]
  },
  {
   "cell_type": "code",
   "execution_count": null,
   "metadata": {},
   "outputs": [],
   "source": [
    "#url to access the function deploy\n",
    "client.deployments.get_scoring_url(deploy)\n"
   ]
  },
  {
   "cell_type": "code",
   "execution_count": null,
   "metadata": {},
   "outputs": [],
   "source": [
    "#inorder to get data\n",
    "#the way get data back from cloud\n",
    "#parameter : 1 ->  url of function  2 -> data input\n",
    "client.deployments.score('https://us-south.ml.cloud.ibm.com/v3/wml_instances/6a130b38-2027-4a02-9f17-15e8a7595f72/deployments/8db08617-27f9-49b0-a5cd-5263ca3a7fc5/online',{\"values\": [[1231]]})"
   ]
  },
  {
   "cell_type": "code",
   "execution_count": null,
   "metadata": {},
   "outputs": [],
   "source": []
  },
  {
   "cell_type": "code",
   "execution_count": null,
   "metadata": {},
   "outputs": [],
   "source": []
  }
 ],
 "metadata": {
  "kernelspec": {
   "display_name": "Python 3",
   "language": "python",
   "name": "python3"
  },
  "language_info": {
   "codemirror_mode": {
    "name": "ipython",
    "version": 3
   },
   "file_extension": ".py",
   "mimetype": "text/x-python",
   "name": "python",
   "nbconvert_exporter": "python",
   "pygments_lexer": "ipython3",
   "version": "3.8.3"
  }
 },
 "nbformat": 4,
 "nbformat_minor": 4
}
